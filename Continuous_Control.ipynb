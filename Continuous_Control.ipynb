{
 "cells": [
  {
   "cell_type": "markdown",
   "metadata": {},
   "source": [
    "# Continuous Control\n",
    "\n",
    "---\n",
    "\n",
    "In this notebook, you will learn how to use the Unity ML-Agents environment for the second project of the [Deep Reinforcement Learning Nanodegree](https://www.udacity.com/course/deep-reinforcement-learning-nanodegree--nd893) program.\n",
    "\n",
    "### 1. Start the Environment\n",
    "\n",
    "We begin by importing the necessary packages.  If the code cell below returns an error, please revisit the project instructions to double-check that you have installed [Unity ML-Agents](https://github.com/Unity-Technologies/ml-agents/blob/master/docs/Installation.md) and [NumPy](http://www.numpy.org/)."
   ]
  },
  {
   "cell_type": "code",
   "execution_count": 1,
   "metadata": {},
   "outputs": [],
   "source": [
    "from unityagents import UnityEnvironment\n",
    "import numpy as np"
   ]
  },
  {
   "cell_type": "markdown",
   "metadata": {},
   "source": [
    "Next, we will start the environment!  **_Before running the code cell below_**, change the `file_name` parameter to match the location of the Unity environment that you downloaded.\n",
    "\n",
    "- **Mac**: `\"path/to/Reacher.app\"`\n",
    "- **Windows** (x86): `\"path/to/Reacher_Windows_x86/Reacher.exe\"`\n",
    "- **Windows** (x86_64): `\"path/to/Reacher_Windows_x86_64/Reacher.exe\"`\n",
    "- **Linux** (x86): `\"path/to/Reacher_Linux/Reacher.x86\"`\n",
    "- **Linux** (x86_64): `\"path/to/Reacher_Linux/Reacher.x86_64\"`\n",
    "- **Linux** (x86, headless): `\"path/to/Reacher_Linux_NoVis/Reacher.x86\"`\n",
    "- **Linux** (x86_64, headless): `\"path/to/Reacher_Linux_NoVis/Reacher.x86_64\"`\n",
    "\n",
    "For instance, if you are using a Mac, then you downloaded `Reacher.app`.  If this file is in the same folder as the notebook, then the line below should appear as follows:\n",
    "```\n",
    "env = UnityEnvironment(file_name=\"Reacher.app\")\n",
    "```"
   ]
  },
  {
   "cell_type": "code",
   "execution_count": 2,
   "metadata": {},
   "outputs": [
    {
     "name": "stderr",
     "output_type": "stream",
     "text": [
      "INFO:unityagents:\n",
      "'Academy' started successfully!\n",
      "Unity Academy name: Academy\n",
      "        Number of Brains: 1\n",
      "        Number of External Brains : 1\n",
      "        Lesson number : 0\n",
      "        Reset Parameters :\n",
      "\t\tgoal_speed -> 1.0\n",
      "\t\tgoal_size -> 5.0\n",
      "Unity brain name: ReacherBrain\n",
      "        Number of Visual Observations (per agent): 0\n",
      "        Vector Observation space type: continuous\n",
      "        Vector Observation space size (per agent): 33\n",
      "        Number of stacked Vector Observation: 1\n",
      "        Vector Action space type: continuous\n",
      "        Vector Action space size (per agent): 4\n",
      "        Vector Action descriptions: , , , \n"
     ]
    }
   ],
   "source": [
    "# env = UnityEnvironment(file_name='Reacher_One_Linux/Reacher.x86_64')\n",
    "# env = UnityEnvironment(file_name='Reacher_Linux/Reacher.x86_64')\n",
    "# env = UnityEnvironment(file_name='Reacher_Linux_NoVis/Reacher.x86_64')\n",
    "env = UnityEnvironment(file_name='Reacher_Linux_One_NoVis/Reacher.x86_64')"
   ]
  },
  {
   "cell_type": "markdown",
   "metadata": {},
   "source": [
    "Environments contain **_brains_** which are responsible for deciding the actions of their associated agents. Here we check for the first brain available, and set it as the default brain we will be controlling from Python."
   ]
  },
  {
   "cell_type": "code",
   "execution_count": 3,
   "metadata": {},
   "outputs": [],
   "source": [
    "# get the default brain\n",
    "brain_name = env.brain_names[0]\n",
    "brain = env.brains[brain_name]"
   ]
  },
  {
   "cell_type": "markdown",
   "metadata": {},
   "source": [
    "### 2. Examine the State and Action Spaces\n",
    "\n",
    "In this environment, a double-jointed arm can move to target locations. A reward of `+0.1` is provided for each step that the agent's hand is in the goal location. Thus, the goal of your agent is to maintain its position at the target location for as many time steps as possible.\n",
    "\n",
    "The observation space consists of `33` variables corresponding to position, rotation, velocity, and angular velocities of the arm.  Each action is a vector with four numbers, corresponding to torque applicable to two joints.  Every entry in the action vector must be a number between `-1` and `1`.\n",
    "\n",
    "Run the code cell below to print some information about the environment."
   ]
  },
  {
   "cell_type": "code",
   "execution_count": 4,
   "metadata": {},
   "outputs": [
    {
     "name": "stdout",
     "output_type": "stream",
     "text": [
      "Number of agents: 1\n",
      "Size of each action: 4\n",
      "There are 1 agents. Each observes a state with length: 33\n",
      "The state for the first agent looks like: [ 0.00000000e+00 -4.00000000e+00  0.00000000e+00  1.00000000e+00\n",
      " -0.00000000e+00 -0.00000000e+00 -4.37113883e-08  0.00000000e+00\n",
      "  0.00000000e+00  0.00000000e+00  0.00000000e+00  0.00000000e+00\n",
      "  0.00000000e+00  0.00000000e+00 -1.00000000e+01  0.00000000e+00\n",
      "  1.00000000e+00 -0.00000000e+00 -0.00000000e+00 -4.37113883e-08\n",
      "  0.00000000e+00  0.00000000e+00  0.00000000e+00  0.00000000e+00\n",
      "  0.00000000e+00  0.00000000e+00  5.75471878e+00 -1.00000000e+00\n",
      "  5.55726671e+00  0.00000000e+00  1.00000000e+00  0.00000000e+00\n",
      " -1.68164849e-01]\n"
     ]
    }
   ],
   "source": [
    "# reset the environment\n",
    "env_info = env.reset(train_mode=True)[brain_name]\n",
    "\n",
    "# number of agents\n",
    "num_agents = len(env_info.agents)\n",
    "print('Number of agents:', num_agents)\n",
    "\n",
    "# size of each action\n",
    "action_size = brain.vector_action_space_size\n",
    "print('Size of each action:', action_size)\n",
    "\n",
    "# examine the state space \n",
    "states = env_info.vector_observations\n",
    "state_size = states.shape[1]\n",
    "print('There are {} agents. Each observes a state with length: {}'.format(states.shape[0], state_size))\n",
    "print('The state for the first agent looks like:', states[0])"
   ]
  },
  {
   "cell_type": "markdown",
   "metadata": {},
   "source": [
    "### 3. Take Random Actions in the Environment\n",
    "\n",
    "In the next code cell, you will learn how to use the Python API to control the agent and receive feedback from the environment.\n",
    "\n",
    "Once this cell is executed, you will watch the agent's performance, if it selects an action at random with each time step.  A window should pop up that allows you to observe the agent, as it moves through the environment.  \n",
    "\n",
    "Of course, as part of the project, you'll have to change the code so that the agent is able to use its experience to gradually choose better actions when interacting with the environment!"
   ]
  },
  {
   "cell_type": "code",
   "execution_count": 5,
   "metadata": {},
   "outputs": [],
   "source": [
    "random_test = False\n",
    "\n",
    "if random_test:\n",
    "    env_info = env.reset(train_mode=False)[brain_name]     # reset the environment    \n",
    "    states = env_info.vector_observations                  # get the current state (for each agent)\n",
    "    scores = np.zeros(num_agents)                          # initialize the score (for each agent)\n",
    "    while True:\n",
    "        actions = np.random.randn(num_agents, action_size) # select an action (for each agent)\n",
    "        actions = np.clip(actions, -1, 1)                  # all actions between -1 and 1\n",
    "        env_info = env.step(actions)[brain_name]           # send all actions to tne environment\n",
    "        next_states = env_info.vector_observations         # get next state (for each agent)\n",
    "        rewards = env_info.rewards                         # get reward (for each agent)\n",
    "        dones = env_info.local_done                        # see if episode finished\n",
    "        scores += env_info.rewards                         # update the score (for each agent)\n",
    "        states = next_states                               # roll over states to next time step\n",
    "        if np.any(dones):                                  # exit loop if episode finished\n",
    "            break\n",
    "    print('Total score (averaged over agents) this episode: {}'.format(np.mean(scores)))"
   ]
  },
  {
   "cell_type": "markdown",
   "metadata": {},
   "source": [
    "When finished, you can close the environment."
   ]
  },
  {
   "cell_type": "code",
   "execution_count": 6,
   "metadata": {},
   "outputs": [],
   "source": [
    "# Don't close the environment to use it for next experiments\n",
    "# After close, it is impossible to reload environment on this Unity version.\n",
    "# env.close()"
   ]
  },
  {
   "cell_type": "markdown",
   "metadata": {},
   "source": [
    "### 4. Training method\n",
    "\n",
    "This is implementation of training method for common: DDPG, PPO and others.\n",
    "\n",
    "#### 4.1. Import modules"
   ]
  },
  {
   "cell_type": "code",
   "execution_count": 7,
   "metadata": {},
   "outputs": [],
   "source": [
    "import time\n",
    "import gym\n",
    "import random\n",
    "import torch\n",
    "import numpy as np\n",
    "from collections import deque\n",
    "import matplotlib.pyplot as plt\n",
    "%matplotlib inline"
   ]
  },
  {
   "cell_type": "markdown",
   "metadata": {},
   "source": [
    "#### 4.2. Set device"
   ]
  },
  {
   "cell_type": "code",
   "execution_count": 8,
   "metadata": {},
   "outputs": [
    {
     "name": "stdout",
     "output_type": "stream",
     "text": [
      "Device = cuda:0\n"
     ]
    }
   ],
   "source": [
    "# Set device between cuda:0 and cpu\n",
    "torch_device = torch.device('cuda:0' if torch.cuda.is_available() else 'cpu')\n",
    "print('Device =', torch_device)"
   ]
  },
  {
   "cell_type": "markdown",
   "metadata": {},
   "source": [
    "#### 4.4 Define training method"
   ]
  },
  {
   "cell_type": "code",
   "execution_count": 9,
   "metadata": {},
   "outputs": [],
   "source": [
    "def train(n_episodes=400, max_t=5000, agents=None, filenames=None,\n",
    "          benchmark_score=30, rolling_n_episodes=10):\n",
    "    \"\"\"Deep Q-Learning.\n",
    "    \n",
    "    Params\n",
    "    ======\n",
    "        n_episodes (int): maximum number of training episodes\n",
    "        max_t (int): maximum number of timesteps per episode (should be over 1000)\n",
    "        agents (obj): training agent instances\n",
    "        filenames (list): string of filenames to store weights of actor and critic\n",
    "        benchmark_score (int): the score of agent should be over this score\n",
    "        rolling_n_episodes (int): the score is checked whenever number of tries reachs to this\n",
    "    \"\"\"\n",
    "    start_time = time.time()\n",
    "        \n",
    "    all_agent_scores = []                             # list containing scores from each episode for all agents\n",
    "    scores_window = deque(maxlen=rolling_n_episodes)  # last rolling_n_episodes scores\n",
    "    avg_checked = False\n",
    "    \n",
    "    for i_episode in range(1, n_episodes + 1):\n",
    "        env_info = env.reset(train_mode=True)[brain_name]  # reset the environment\n",
    "        states = env_info.vector_observations              # get the current state (for each agent)\n",
    "        scores = np.zeros(len(agents))                     # initialize the score (for each agent)\n",
    "\n",
    "        for agent in agents:                               # Reset agent before starting new episode\n",
    "            agent.reset()\n",
    "\n",
    "        for t in range(max_t):\n",
    "            actions = [agent.act(states[i]) for i, agent in enumerate(agents)]  # select actions\n",
    "            env_info = env.step(actions)[brain_name]       # send the action to the environment\n",
    "            next_states = env_info.vector_observations     # get the next state\n",
    "            rewards = env_info.rewards                     # get the reward\n",
    "            dones = env_info.local_done                    # see if episode has finished\n",
    "\n",
    "            for i, agent in enumerate(agents):\n",
    "                agent.step(states[i], actions[i], rewards[i], next_states[i], dones[i])\n",
    "            \n",
    "            states = next_states                           # roll over the state to next time step\n",
    "            scores += rewards                              # update the score\n",
    "            if np.any(dones):                              # exit loop if episode finished\n",
    "                break\n",
    "\n",
    "        avg_score = np.mean(scores)                        # average score of all agents\n",
    "        scores_window.append(avg_score)                    # save most recent score\n",
    "        all_agent_scores.append(avg_score)                 # save most recent score\n",
    "        avg_scores_window = np.mean(scores_window)         # get average score of current window\n",
    "\n",
    "        print('\\rEpisode {}\\tAverage Score: {:.2f}'.format(i_episode, avg_scores_window), end=\"\")\n",
    "        \n",
    "        if i_episode % rolling_n_episodes == 0:\n",
    "            print('\\rEpisode {}\\tAverage Score: {:.2f}'.format(i_episode, avg_scores_window))\n",
    "        \n",
    "        if not avg_checked and avg_scores_window >= benchmark_score:\n",
    "            print('\\nEnvironment solved in {:d} episodes!\\tAverage Score: {:.2f}'.format(\n",
    "                  i_episode - rolling_n_episodes, avg_scores_window))\n",
    "            avg_checked = True\n",
    "\n",
    "    print('\\nTraining time = {:.2f}s'.format(time.time() - start_time))\n",
    "    if filenames:\n",
    "        agent.store_weights(filenames)\n",
    "\n",
    "    return all_agent_scores"
   ]
  },
  {
   "cell_type": "markdown",
   "metadata": {},
   "source": [
    "#### 4.5. Define plot score method"
   ]
  },
  {
   "cell_type": "code",
   "execution_count": 10,
   "metadata": {},
   "outputs": [],
   "source": [
    "import pandas as pd\n",
    "\n",
    "def plot_scores(scores, benchmark_score, rolling_n_episodes):\n",
    "    # plot the scores\n",
    "    fig = plt.figure()\n",
    "    ax = fig.add_subplot(111)\n",
    "\n",
    "    plt.plot(np.arange(len(scores)), scores)\n",
    "    plt.ylabel('Score')\n",
    "    plt.xlabel('Episode #')\n",
    "    ax.axhline(benchmark_score, c=\"red\", alpha=0.5)\n",
    "    \n",
    "    rolling_window = rolling_n_episodes\n",
    "    rolling_mean = pd.Series(scores).rolling(rolling_window).mean()\n",
    "    plt.plot(rolling_mean, c='yellow', alpha=0.7)\n",
    "    \n",
    "    plt.show()"
   ]
  },
  {
   "cell_type": "markdown",
   "metadata": {},
   "source": [
    "#### 4.6. Hyper-parameters for replay buffer"
   ]
  },
  {
   "cell_type": "code",
   "execution_count": 11,
   "metadata": {},
   "outputs": [],
   "source": [
    "memory_params = {\n",
    "    'buffer_size': int(1e6),        # replay buffer size\n",
    "    'batch_size': 128,              # minibatch size\n",
    "    'seed': 0,                      # Seed to generate random numbers\n",
    "}"
   ]
  },
  {
   "cell_type": "markdown",
   "metadata": {},
   "source": [
    "#### 4.6. Create replay buffer"
   ]
  },
  {
   "cell_type": "code",
   "execution_count": 12,
   "metadata": {},
   "outputs": [],
   "source": [
    "# Create replay buffer\n",
    "from replaybuffer import ReplayBuffer\n",
    "\n",
    "memory = ReplayBuffer(action_size, memory_params['buffer_size'],\n",
    "                      memory_params['batch_size'], memory_params['seed'], torch_device)"
   ]
  },
  {
   "cell_type": "markdown",
   "metadata": {},
   "source": [
    "#### 4.6 Test trained agent\n",
    "Below codes executes on Windows.\n",
    "It shows agents how to move by training result."
   ]
  },
  {
   "cell_type": "code",
   "execution_count": 13,
   "metadata": {},
   "outputs": [],
   "source": [
    "def test(agents, max_t=5000):\n",
    "    env_info = env.reset(train_mode=False)[brain_name] # reset the environment\n",
    "    states = env_info.vector_observations              # get the current state\n",
    "    scores = np.zeros(len(agents))\n",
    "\n",
    "    for t in range(max_t):\n",
    "        # select actions\n",
    "        actions = [agent.act(states[i], add_noise=False) for i, agent in enumerate(agents)]\n",
    "        env_info = env.step(actions)[brain_name]       # send the action to the environment\n",
    "        rewards = env_info.rewards                     # get the reward\n",
    "        dones = env_info.local_done                    # see if episode has finished\n",
    "        states = env_info.vector_observations          # roll over the state to next time step\n",
    "        scores += rewards                              # update the score\n",
    "        if np.any(dones):                              # exit loop if episode finished\n",
    "            break\n",
    "    \n",
    "    print('Score: {:.2f}'.format(np.mean(scores)))"
   ]
  },
  {
   "cell_type": "markdown",
   "metadata": {},
   "source": [
    "### 5. DDPG\n",
    "This is implementation of DDPG.\n",
    "\n",
    "#### 5.1. Set hyper-parameters"
   ]
  },
  {
   "cell_type": "code",
   "execution_count": 14,
   "metadata": {},
   "outputs": [],
   "source": [
    "params = {\n",
    "    'gamma': 0.99,                      # discount factor\n",
    "    'tau': 1e-3,                        # for soft update of target parameters\n",
    "    'update_every': 1,                  # update parameters per this number\n",
    "    'lr_actor': 7e-5,                   # learning rate of the Actor\n",
    "    'lr_critic': 1e-4,                  # learning rate of the Critic\n",
    "    'seed': 0,                          # Seed to generate random numbers\n",
    "    'actor_units': [512, 256],          # Number of nodes in hidden layers of the Actor\n",
    "    'critic_units': [512, 256],         # Number of nodes in hidden layers of the Critic\n",
    "    'weight_decay': 0,                  # L2 weight decay\n",
    "    'noise_theta': 0.15,                # Theta of Ornstein-Uhlenbeck process\n",
    "    'noise_sigma': 0.01,                # Sigma of Ornstein-Uhlenbeck process\n",
    "}"
   ]
  },
  {
   "cell_type": "markdown",
   "metadata": {},
   "source": [
    "#### 5.2. Set plot parameters"
   ]
  },
  {
   "cell_type": "code",
   "execution_count": 15,
   "metadata": {},
   "outputs": [],
   "source": [
    "# Parameters to store and plot scores\n",
    "rolling_n_episodes = 10     # Score is checked whenever number of tries reachs to this.\n",
    "benchmark_score = 30.0      # Score of agent should be over this score"
   ]
  },
  {
   "cell_type": "markdown",
   "metadata": {},
   "source": [
    "#### 5.3. Create agent"
   ]
  },
  {
   "cell_type": "code",
   "execution_count": 16,
   "metadata": {},
   "outputs": [],
   "source": [
    "from ddpg_agent import DDPGAgent\n",
    "\n",
    "ddpg_agents = [DDPGAgent(state_size, action_size, memory, torch_device, params)\n",
    "               for _ in range(num_agents)]"
   ]
  },
  {
   "cell_type": "markdown",
   "metadata": {},
   "source": [
    "#### 5.4. Training"
   ]
  },
  {
   "cell_type": "code",
   "execution_count": 17,
   "metadata": {},
   "outputs": [
    {
     "name": "stdout",
     "output_type": "stream",
     "text": [
      "Episode 10\tAverage Score: 0.76\n",
      "Episode 20\tAverage Score: 1.30\n",
      "Episode 30\tAverage Score: 3.72\n",
      "Episode 40\tAverage Score: 6.83\n",
      "Episode 50\tAverage Score: 10.40\n",
      "Episode 60\tAverage Score: 21.16\n",
      "Episode 70\tAverage Score: 25.76\n",
      "Episode 75\tAverage Score: 31.08\n",
      "Environment solved in 65 episodes!\tAverage Score: 31.08\n",
      "Episode 80\tAverage Score: 34.17\n",
      "Episode 90\tAverage Score: 34.92\n",
      "Episode 100\tAverage Score: 38.77\n",
      "Episode 110\tAverage Score: 37.47\n",
      "Episode 120\tAverage Score: 37.28\n",
      "Episode 130\tAverage Score: 36.85\n",
      "Episode 140\tAverage Score: 35.41\n",
      "Episode 150\tAverage Score: 34.21\n",
      "Episode 160\tAverage Score: 31.99\n",
      "Episode 170\tAverage Score: 36.90\n",
      "Episode 180\tAverage Score: 33.71\n",
      "Episode 190\tAverage Score: 35.90\n",
      "Episode 200\tAverage Score: 32.09\n",
      "Episode 210\tAverage Score: 34.12\n",
      "Episode 220\tAverage Score: 36.04\n",
      "Episode 230\tAverage Score: 34.46\n",
      "Episode 240\tAverage Score: 35.23\n",
      "Episode 250\tAverage Score: 33.35\n",
      "Episode 260\tAverage Score: 36.43\n",
      "Episode 270\tAverage Score: 36.37\n",
      "Episode 280\tAverage Score: 35.84\n",
      "Episode 290\tAverage Score: 36.68\n",
      "Episode 300\tAverage Score: 38.04\n",
      "\n",
      "Training time = 3319.96s\n"
     ]
    }
   ],
   "source": [
    "ddpg_scores = train(300, 5000, ddpg_agents, [\"model_ddpg_actor.pth\", \"model_ddpg_critic.pth\"],\n",
    "                    benchmark_score, rolling_n_episodes)"
   ]
  },
  {
   "cell_type": "markdown",
   "metadata": {},
   "source": [
    "#### 5.5. plot scores"
   ]
  },
  {
   "cell_type": "code",
   "execution_count": 18,
   "metadata": {},
   "outputs": [
    {
     "data": {
      "image/png": "[encoded data removed]",
      "text/plain": [
       "<Figure size 432x288 with 1 Axes>"
      ]
     },
     "metadata": {
      "needs_background": "light"
     },
     "output_type": "display_data"
    }
   ],
   "source": [
    "plot_scores(ddpg_scores, benchmark_score, rolling_n_episodes)"
   ]
  },
  {
   "cell_type": "markdown",
   "metadata": {},
   "source": [
    "#### 5.6. Test"
   ]
  },
  {
   "cell_type": "code",
   "execution_count": 19,
   "metadata": {},
   "outputs": [
    {
     "name": "stdout",
     "output_type": "stream",
     "text": [
      "Score: 39.51\n"
     ]
    }
   ],
   "source": [
    "ddpg_agents = [DDPGAgent(state_size, action_size, memory, torch_device, params)\n",
    "               for _ in range(num_agents)]\n",
    "\n",
    "for agent in ddpg_agents:\n",
    "    agent.load_weights([\"model_ddpg_actor.pth\", \"model_ddpg_critic.pth\"])\n",
    "\n",
    "test(ddpg_agents)"
   ]
  },
  {
   "cell_type": "markdown",
   "metadata": {},
   "source": [
    "#### 5.7. Close"
   ]
  },
  {
   "cell_type": "code",
   "execution_count": 20,
   "metadata": {},
   "outputs": [],
   "source": [
    "env.close()"
   ]
  }
 ],
 "metadata": {
  "kernelspec": {
   "display_name": "drlnd",
   "language": "python",
   "name": "drlnd"
  },
  "language_info": {
   "codemirror_mode": {
    "name": "ipython",
    "version": 3
   },
   "file_extension": ".py",
   "mimetype": "text/x-python",
   "name": "python",
   "nbconvert_exporter": "python",
   "pygments_lexer": "ipython3",
   "version": "3.6.8"
  }
 },
 "nbformat": 4,
 "nbformat_minor": 2
}
